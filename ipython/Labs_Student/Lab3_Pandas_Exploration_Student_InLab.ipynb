{
 "cells": [
  {
   "cell_type": "markdown",
   "metadata": {},
   "source": [
    "In this lab we're going to do simple data exploration using Pandas. Our objective is to learn basic operations that aid in visual data exploration.\n",
    "\n",
    "<br>\n",
    "\n",
    "First, let's import our required libraries and read in the data."
   ]
  },
  {
   "cell_type": "code",
   "execution_count": 1,
   "metadata": {},
   "outputs": [],
   "source": [
    "import pandas as pd\n",
    "import matplotlib.pyplot as plt\n",
    "import numpy as np\n",
    "import os\n",
    "\n",
    "\n",
    "cwd = os.getcwd()\n",
    "\n",
    "#If on MAC, this will likely work\n",
    "#datadir = '/'.join(cwd.split('/')[0:-1]) + '/data/'\n",
    "#If on window's machine, explicitly put in data dir\n",
    "#datadir = \n",
    "\n",
    "%matplotlib inline\n",
    "\n",
    "\n",
    "#Now read in the dataset loansdata.csv\n",
    "loansData = pd.read_csv('https://spark-public.s3.amazonaws.com/dataanalysis/loansData.csv')"
   ]
  },
  {
   "cell_type": "markdown",
   "metadata": {},
   "source": [
    "The full schema can be found <a href=\"https://github.com/herrfz/dataanalysis/blob/master/assignment1/Assignment1.pdf\">here</a>, but let's use native Pandas methods to also explore the data. Although not specified above, this csv has row headers and the read_csv function implicitly knows this. <br>\n",
    "\n",
    "Let's take a look at the column names, in a nicely readable way:"
   ]
  },
  {
   "cell_type": "code",
   "execution_count": 4,
   "metadata": {},
   "outputs": [
    {
     "name": "stdout",
     "output_type": "stream",
     "text": [
      "Column Names Are:\n",
      "\n",
      "Amount.Requested\n",
      "Amount.Funded.By.Investors\n",
      "Interest.Rate\n",
      "Loan.Length\n",
      "Loan.Purpose\n",
      "Debt.To.Income.Ratio\n",
      "State\n",
      "Home.Ownership\n",
      "Monthly.Income\n",
      "FICO.Range\n",
      "Open.CREDIT.Lines\n",
      "Revolving.CREDIT.Balance\n",
      "Inquiries.in.the.Last.6.Months\n",
      "Employment.Length\n",
      "\n",
      "Total # of Columns = 14\n",
      "14\n"
     ]
    }
   ],
   "source": [
    "print(\"Column Names Are:\")\n",
    "print(\"\")\n",
    "\n",
    "for column_name in loansData.columns:\n",
    "    print(column_name)\n",
    "\n",
    "print(\"\")\n",
    "print('Total # of Columns = {}'.format(len(loansData.columns)))\n",
    "\n",
    "# Simple Way for number of columns\n",
    "print(len(loansData.columns))"
   ]
  },
  {
   "cell_type": "markdown",
   "metadata": {},
   "source": [
    "It is oftentimes helpful to take a quick glance at the first few records (when possible). This is an easy way to discover basic data flaws (i.e., all nulls, misaligned fields, etc.). We can do this in Pandas very easily."
   ]
  },
  {
   "cell_type": "code",
   "execution_count": 5,
   "metadata": {},
   "outputs": [
    {
     "data": {
      "text/html": [
       "<div>\n",
       "<style scoped>\n",
       "    .dataframe tbody tr th:only-of-type {\n",
       "        vertical-align: middle;\n",
       "    }\n",
       "\n",
       "    .dataframe tbody tr th {\n",
       "        vertical-align: top;\n",
       "    }\n",
       "\n",
       "    .dataframe thead th {\n",
       "        text-align: right;\n",
       "    }\n",
       "</style>\n",
       "<table border=\"1\" class=\"dataframe\">\n",
       "  <thead>\n",
       "    <tr style=\"text-align: right;\">\n",
       "      <th></th>\n",
       "      <th>Amount.Requested</th>\n",
       "      <th>Amount.Funded.By.Investors</th>\n",
       "      <th>Interest.Rate</th>\n",
       "      <th>Loan.Length</th>\n",
       "      <th>Loan.Purpose</th>\n",
       "      <th>Debt.To.Income.Ratio</th>\n",
       "      <th>State</th>\n",
       "      <th>Home.Ownership</th>\n",
       "      <th>Monthly.Income</th>\n",
       "      <th>FICO.Range</th>\n",
       "      <th>Open.CREDIT.Lines</th>\n",
       "      <th>Revolving.CREDIT.Balance</th>\n",
       "      <th>Inquiries.in.the.Last.6.Months</th>\n",
       "      <th>Employment.Length</th>\n",
       "    </tr>\n",
       "  </thead>\n",
       "  <tbody>\n",
       "    <tr>\n",
       "      <th>81174</th>\n",
       "      <td>20000</td>\n",
       "      <td>20000.0</td>\n",
       "      <td>8.90%</td>\n",
       "      <td>36 months</td>\n",
       "      <td>debt_consolidation</td>\n",
       "      <td>14.90%</td>\n",
       "      <td>SC</td>\n",
       "      <td>MORTGAGE</td>\n",
       "      <td>6541.67</td>\n",
       "      <td>735-739</td>\n",
       "      <td>14.0</td>\n",
       "      <td>14272.0</td>\n",
       "      <td>2.0</td>\n",
       "      <td>&lt; 1 year</td>\n",
       "    </tr>\n",
       "    <tr>\n",
       "      <th>99592</th>\n",
       "      <td>19200</td>\n",
       "      <td>19200.0</td>\n",
       "      <td>12.12%</td>\n",
       "      <td>36 months</td>\n",
       "      <td>debt_consolidation</td>\n",
       "      <td>28.36%</td>\n",
       "      <td>TX</td>\n",
       "      <td>MORTGAGE</td>\n",
       "      <td>4583.33</td>\n",
       "      <td>715-719</td>\n",
       "      <td>12.0</td>\n",
       "      <td>11140.0</td>\n",
       "      <td>1.0</td>\n",
       "      <td>2 years</td>\n",
       "    </tr>\n",
       "    <tr>\n",
       "      <th>80059</th>\n",
       "      <td>35000</td>\n",
       "      <td>35000.0</td>\n",
       "      <td>21.98%</td>\n",
       "      <td>60 months</td>\n",
       "      <td>debt_consolidation</td>\n",
       "      <td>23.81%</td>\n",
       "      <td>CA</td>\n",
       "      <td>MORTGAGE</td>\n",
       "      <td>11500.00</td>\n",
       "      <td>690-694</td>\n",
       "      <td>14.0</td>\n",
       "      <td>21977.0</td>\n",
       "      <td>1.0</td>\n",
       "      <td>2 years</td>\n",
       "    </tr>\n",
       "    <tr>\n",
       "      <th>15825</th>\n",
       "      <td>10000</td>\n",
       "      <td>9975.0</td>\n",
       "      <td>9.99%</td>\n",
       "      <td>36 months</td>\n",
       "      <td>debt_consolidation</td>\n",
       "      <td>14.30%</td>\n",
       "      <td>KS</td>\n",
       "      <td>MORTGAGE</td>\n",
       "      <td>3833.33</td>\n",
       "      <td>695-699</td>\n",
       "      <td>10.0</td>\n",
       "      <td>9346.0</td>\n",
       "      <td>0.0</td>\n",
       "      <td>5 years</td>\n",
       "    </tr>\n",
       "    <tr>\n",
       "      <th>33182</th>\n",
       "      <td>12000</td>\n",
       "      <td>12000.0</td>\n",
       "      <td>11.71%</td>\n",
       "      <td>36 months</td>\n",
       "      <td>credit_card</td>\n",
       "      <td>18.78%</td>\n",
       "      <td>NJ</td>\n",
       "      <td>RENT</td>\n",
       "      <td>3195.00</td>\n",
       "      <td>695-699</td>\n",
       "      <td>11.0</td>\n",
       "      <td>14469.0</td>\n",
       "      <td>0.0</td>\n",
       "      <td>9 years</td>\n",
       "    </tr>\n",
       "  </tbody>\n",
       "</table>\n",
       "</div>"
      ],
      "text/plain": [
       "       Amount.Requested  Amount.Funded.By.Investors Interest.Rate Loan.Length  \\\n",
       "81174             20000                     20000.0         8.90%   36 months   \n",
       "99592             19200                     19200.0        12.12%   36 months   \n",
       "80059             35000                     35000.0        21.98%   60 months   \n",
       "15825             10000                      9975.0         9.99%   36 months   \n",
       "33182             12000                     12000.0        11.71%   36 months   \n",
       "\n",
       "             Loan.Purpose Debt.To.Income.Ratio State Home.Ownership  \\\n",
       "81174  debt_consolidation               14.90%    SC       MORTGAGE   \n",
       "99592  debt_consolidation               28.36%    TX       MORTGAGE   \n",
       "80059  debt_consolidation               23.81%    CA       MORTGAGE   \n",
       "15825  debt_consolidation               14.30%    KS       MORTGAGE   \n",
       "33182         credit_card               18.78%    NJ           RENT   \n",
       "\n",
       "       Monthly.Income FICO.Range  Open.CREDIT.Lines  Revolving.CREDIT.Balance  \\\n",
       "81174         6541.67    735-739               14.0                   14272.0   \n",
       "99592         4583.33    715-719               12.0                   11140.0   \n",
       "80059        11500.00    690-694               14.0                   21977.0   \n",
       "15825         3833.33    695-699               10.0                    9346.0   \n",
       "33182         3195.00    695-699               11.0                   14469.0   \n",
       "\n",
       "       Inquiries.in.the.Last.6.Months Employment.Length  \n",
       "81174                             2.0          < 1 year  \n",
       "99592                             1.0           2 years  \n",
       "80059                             1.0           2 years  \n",
       "15825                             0.0           5 years  \n",
       "33182                             0.0           9 years  "
      ]
     },
     "execution_count": 5,
     "metadata": {},
     "output_type": "execute_result"
    }
   ],
   "source": [
    "loansData.head() #We transpose it so it will fit in the display window"
   ]
  },
  {
   "cell_type": "markdown",
   "metadata": {},
   "source": [
    "Next, let's run a quick line to get summary statistics of the numeric fields."
   ]
  },
  {
   "cell_type": "code",
   "execution_count": 7,
   "metadata": {},
   "outputs": [
    {
     "data": {
      "text/html": [
       "<div>\n",
       "<style scoped>\n",
       "    .dataframe tbody tr th:only-of-type {\n",
       "        vertical-align: middle;\n",
       "    }\n",
       "\n",
       "    .dataframe tbody tr th {\n",
       "        vertical-align: top;\n",
       "    }\n",
       "\n",
       "    .dataframe thead th {\n",
       "        text-align: right;\n",
       "    }\n",
       "</style>\n",
       "<table border=\"1\" class=\"dataframe\">\n",
       "  <thead>\n",
       "    <tr style=\"text-align: right;\">\n",
       "      <th></th>\n",
       "      <th>Amount.Requested</th>\n",
       "      <th>Amount.Funded.By.Investors</th>\n",
       "      <th>Monthly.Income</th>\n",
       "      <th>Open.CREDIT.Lines</th>\n",
       "      <th>Revolving.CREDIT.Balance</th>\n",
       "      <th>Inquiries.in.the.Last.6.Months</th>\n",
       "    </tr>\n",
       "  </thead>\n",
       "  <tbody>\n",
       "    <tr>\n",
       "      <th>count</th>\n",
       "      <td>2500.000000</td>\n",
       "      <td>2500.000000</td>\n",
       "      <td>2499.000000</td>\n",
       "      <td>2498.000000</td>\n",
       "      <td>2498.000000</td>\n",
       "      <td>2498.000000</td>\n",
       "    </tr>\n",
       "    <tr>\n",
       "      <th>mean</th>\n",
       "      <td>12406.500000</td>\n",
       "      <td>12001.573236</td>\n",
       "      <td>5688.931321</td>\n",
       "      <td>10.075661</td>\n",
       "      <td>15244.559648</td>\n",
       "      <td>0.906325</td>\n",
       "    </tr>\n",
       "    <tr>\n",
       "      <th>std</th>\n",
       "      <td>7801.544872</td>\n",
       "      <td>7745.320754</td>\n",
       "      <td>3963.118185</td>\n",
       "      <td>4.508644</td>\n",
       "      <td>18308.549795</td>\n",
       "      <td>1.231036</td>\n",
       "    </tr>\n",
       "    <tr>\n",
       "      <th>min</th>\n",
       "      <td>1000.000000</td>\n",
       "      <td>-0.010000</td>\n",
       "      <td>588.500000</td>\n",
       "      <td>2.000000</td>\n",
       "      <td>0.000000</td>\n",
       "      <td>0.000000</td>\n",
       "    </tr>\n",
       "    <tr>\n",
       "      <th>25%</th>\n",
       "      <td>6000.000000</td>\n",
       "      <td>6000.000000</td>\n",
       "      <td>3500.000000</td>\n",
       "      <td>7.000000</td>\n",
       "      <td>5585.750000</td>\n",
       "      <td>0.000000</td>\n",
       "    </tr>\n",
       "    <tr>\n",
       "      <th>50%</th>\n",
       "      <td>10000.000000</td>\n",
       "      <td>10000.000000</td>\n",
       "      <td>5000.000000</td>\n",
       "      <td>9.000000</td>\n",
       "      <td>10962.000000</td>\n",
       "      <td>0.000000</td>\n",
       "    </tr>\n",
       "    <tr>\n",
       "      <th>75%</th>\n",
       "      <td>17000.000000</td>\n",
       "      <td>16000.000000</td>\n",
       "      <td>6800.000000</td>\n",
       "      <td>13.000000</td>\n",
       "      <td>18888.750000</td>\n",
       "      <td>1.000000</td>\n",
       "    </tr>\n",
       "    <tr>\n",
       "      <th>max</th>\n",
       "      <td>35000.000000</td>\n",
       "      <td>35000.000000</td>\n",
       "      <td>102750.000000</td>\n",
       "      <td>38.000000</td>\n",
       "      <td>270800.000000</td>\n",
       "      <td>9.000000</td>\n",
       "    </tr>\n",
       "  </tbody>\n",
       "</table>\n",
       "</div>"
      ],
      "text/plain": [
       "       Amount.Requested  Amount.Funded.By.Investors  Monthly.Income  \\\n",
       "count       2500.000000                 2500.000000     2499.000000   \n",
       "mean       12406.500000                12001.573236     5688.931321   \n",
       "std         7801.544872                 7745.320754     3963.118185   \n",
       "min         1000.000000                   -0.010000      588.500000   \n",
       "25%         6000.000000                 6000.000000     3500.000000   \n",
       "50%        10000.000000                10000.000000     5000.000000   \n",
       "75%        17000.000000                16000.000000     6800.000000   \n",
       "max        35000.000000                35000.000000   102750.000000   \n",
       "\n",
       "       Open.CREDIT.Lines  Revolving.CREDIT.Balance  \\\n",
       "count        2498.000000               2498.000000   \n",
       "mean           10.075661              15244.559648   \n",
       "std             4.508644              18308.549795   \n",
       "min             2.000000                  0.000000   \n",
       "25%             7.000000               5585.750000   \n",
       "50%             9.000000              10962.000000   \n",
       "75%            13.000000              18888.750000   \n",
       "max            38.000000             270800.000000   \n",
       "\n",
       "       Inquiries.in.the.Last.6.Months  \n",
       "count                     2498.000000  \n",
       "mean                         0.906325  \n",
       "std                          1.231036  \n",
       "min                          0.000000  \n",
       "25%                          0.000000  \n",
       "50%                          0.000000  \n",
       "75%                          1.000000  \n",
       "max                          9.000000  "
      ]
     },
     "execution_count": 7,
     "metadata": {},
     "output_type": "execute_result"
    }
   ],
   "source": [
    "loansData.describe()"
   ]
  },
  {
   "cell_type": "markdown",
   "metadata": {},
   "source": [
    "Let's now focus on a single column, 'Monthly.Income.' First things first, let's display the first five records of just this field."
   ]
  },
  {
   "cell_type": "code",
   "execution_count": 10,
   "metadata": {},
   "outputs": [
    {
     "data": {
      "text/plain": [
       "81174     6541.67\n",
       "99592     4583.33\n",
       "80059    11500.00\n",
       "15825     3833.33\n",
       "33182     3195.00\n",
       "Name: Monthly.Income, dtype: float64"
      ]
     },
     "execution_count": 10,
     "metadata": {},
     "output_type": "execute_result"
    }
   ],
   "source": [
    "#Student input line here\n",
    "loansData[\"Monthly.Income\"][0:5]"
   ]
  },
  {
   "cell_type": "markdown",
   "metadata": {},
   "source": [
    "Let's try and understand the distribution of this field. We can do this using the hist() method and matplotlib."
   ]
  },
  {
   "cell_type": "code",
   "execution_count": 13,
   "metadata": {},
   "outputs": [
    {
     "data": {
      "text/plain": [
       "Text(0.5,1,'Histogram of Monthly Income')"
      ]
     },
     "execution_count": 13,
     "metadata": {},
     "output_type": "execute_result"
    },
    {
     "data": {
      "image/png": "[encoded data removed]",
      "text/plain": [
       "<Figure size 432x288 with 1 Axes>"
      ]
     },
     "metadata": {},
     "output_type": "display_data"
    }
   ],
   "source": [
    "plt.figure()\n",
    "loansData['Monthly.Income'].hist()\n",
    "plt.title('Histogram of Monthly Income')"
   ]
  },
  {
   "cell_type": "markdown",
   "metadata": {},
   "source": [
    "How would you characterize the shape of this distribution? Is there anything we can do to the income variable to make the distribution more bell curved? Let's create a new column in the dataframe called 'Monthly.LogIncome' and print a histogram of it. What might be some advantages of making such a transformation?\n",
    "<br>\n"
   ]
  },
  {
   "cell_type": "code",
   "execution_count": 16,
   "metadata": {},
   "outputs": [],
   "source": [
    "#Student: Add a new column Monthly.LogIncome to the dataset that is the log of the Monthly.Income columne\n",
    "loansData[\"Monthly.LogIncome\"] = np.log(loansData[\"Monthly.Income\"])\n",
    "\n",
    "# Another version\n",
    "loansData[\"Monthly.LogIncome\"] = loansData[\"Monthly.Income\"].map(np.log)\n",
    "\n",
    "# In Panda, using map the data can be mapped through any function => using map, any function can be applied to the data"
   ]
  },
  {
   "cell_type": "code",
   "execution_count": 15,
   "metadata": {},
   "outputs": [
    {
     "data": {
      "text/plain": [
       "Text(0.5,1,'Histogram of Log(Monthly Income)')"
      ]
     },
     "execution_count": 15,
     "metadata": {},
     "output_type": "execute_result"
    },
    {
     "data": {
      "image/png": "[encoded data removed]",
      "text/plain": [
       "<Figure size 432x288 with 1 Axes>"
      ]
     },
     "metadata": {},
     "output_type": "display_data"
    }
   ],
   "source": [
    "#Now look at the distribution\n",
    "plt.figure()\n",
    "loansData['Monthly.LogIncome'].hist()\n",
    "plt.title('Histogram of Log(Monthly Income)')"
   ]
  },
  {
   "cell_type": "markdown",
   "metadata": {},
   "source": [
    "Now let's answer some questions about the data.\n",
    "\n",
    "<b>Q1: What is the cardinality (i.e., # of distinct values) for 'Interest.Rate' and 'FICO.Range'</b>"
   ]
  },
  {
   "cell_type": "code",
   "execution_count": 31,
   "metadata": {},
   "outputs": [
    {
     "name": "stdout",
     "output_type": "stream",
     "text": [
      "Version 1\n",
      "(275,)\n",
      "(38,)\n",
      "Version 2\n",
      "275 38\n",
      "Version 3\n"
     ]
    },
    {
     "data": {
      "text/plain": [
       "Interest.Rate    275\n",
       "FICO.Range        38\n",
       "Name: unique, dtype: object"
      ]
     },
     "execution_count": 31,
     "metadata": {},
     "output_type": "execute_result"
    }
   ],
   "source": [
    "#Student input code here - hint, the 'describe()' method returns a useful dataframe\n",
    "print(\"Version 1\")\n",
    "print(loansData[\"Interest.Rate\"].unique().shape)\n",
    "print(loansData[\"FICO.Range\"].unique().shape)\n",
    "\n",
    "# Another version\n",
    "print(\"Version 2\")\n",
    "print(len(loansData[\"Interest.Rate\"].unique()), len(loansData[\"FICO.Range\"].unique()))\n",
    "\n",
    "# Another version\n",
    "print(\"Version 3\")\n",
    "loansData[[\"Interest.Rate\", \"FICO.Range\"]].describe().loc[\"unique\",:]"
   ]
  },
  {
   "cell_type": "markdown",
   "metadata": {},
   "source": [
    "<b>Q2: What data type did Pandas set fo Interest.Rate? Can we create a new field which is stored as a float?</b>"
   ]
  },
  {
   "cell_type": "code",
   "execution_count": 23,
   "metadata": {},
   "outputs": [
    {
     "data": {
      "text/plain": [
       "dtype('O')"
      ]
     },
     "execution_count": 23,
     "metadata": {},
     "output_type": "execute_result"
    }
   ],
   "source": [
    "#Student input code here - show the field type\n",
    "loansData[\"Interest.Rate\"].dtypes"
   ]
  },
  {
   "cell_type": "markdown",
   "metadata": {},
   "source": [
    "In the cell below, create a new field 'Interest.Rate.Num' where 'Interest.Rate' is converted to a float. Hint: this can be done in one line using the .str assessor, strip and astype methods."
   ]
  },
  {
   "cell_type": "code",
   "execution_count": 33,
   "metadata": {},
   "outputs": [],
   "source": [
    "#Student input code here - convert field to a float using the '.str' assessor\n",
    "loansData[\"Interest.Rate.float\"] = loansData[\"Interest.Rate\"].str[:-1].astype(float)"
   ]
  },
  {
   "cell_type": "markdown",
   "metadata": {},
   "source": [
    "<b>Q3: Can we get a sense of the relationship between monthly income and interest rate? Use the scatter() function from Matplotlib.</b>"
   ]
  },
  {
   "cell_type": "code",
   "execution_count": 40,
   "metadata": {},
   "outputs": [
    {
     "data": {
      "text/plain": [
       "<matplotlib.collections.PathCollection at 0x2e5d53cd5f8>"
      ]
     },
     "execution_count": 40,
     "metadata": {},
     "output_type": "execute_result"
    },
    {
     "data": {
      "image/png": "[encoded data removed]",
      "text/plain": [
       "<Figure size 432x288 with 1 Axes>"
      ]
     },
     "metadata": {},
     "output_type": "display_data"
    }
   ],
   "source": [
    "#Student input line here\n",
    "ir = loansData[\"Interest.Rate.float\"]\n",
    "mi = loansData[\"Monthly.Income\"]\n",
    "plt.scatter(mi, ir)"
   ]
  },
  {
   "cell_type": "markdown",
   "metadata": {},
   "source": [
    "Given the skewed distribution of Income, is this chart visually helpful? Let's try the Log of income instead."
   ]
  },
  {
   "cell_type": "code",
   "execution_count": 41,
   "metadata": {},
   "outputs": [
    {
     "data": {
      "text/plain": [
       "<matplotlib.collections.PathCollection at 0x2e5d542c4e0>"
      ]
     },
     "execution_count": 41,
     "metadata": {},
     "output_type": "execute_result"
    },
    {
     "data": {
      "image/png": "[encoded data removed]",
      "text/plain": [
       "<Figure size 432x288 with 1 Axes>"
      ]
     },
     "metadata": {},
     "output_type": "display_data"
    }
   ],
   "source": [
    "#Student input code here\n",
    "mli = loansData[\"Monthly.LogIncome\"]\n",
    "plt.scatter(mli, ir)"
   ]
  },
  {
   "cell_type": "markdown",
   "metadata": {},
   "source": [
    "<b>Q4: What is the average interest rate for each FICO range?</b> <br>\n",
    "Hint: use the groupby() method in Pandas."
   ]
  },
  {
   "cell_type": "code",
   "execution_count": 46,
   "metadata": {},
   "outputs": [
    {
     "data": {
      "text/plain": [
       "count        2500\n",
       "unique         38\n",
       "top       670-674\n",
       "freq          171\n",
       "Name: FICO.Range, dtype: object"
      ]
     },
     "execution_count": 46,
     "metadata": {},
     "output_type": "execute_result"
    }
   ],
   "source": [
    "#Student input code here\n",
    "loansData[\"FICO.Range\"].describe()"
   ]
  },
  {
   "cell_type": "code",
   "execution_count": 54,
   "metadata": {},
   "outputs": [
    {
     "data": {
      "text/plain": [
       "FICO.Range\n",
       "640-644    15.212000\n",
       "645-649    14.883333\n",
       "650-654    15.130000\n",
       "655-659    14.930000\n",
       "660-664    18.492480\n",
       "665-669    17.448069\n",
       "670-674    16.248480\n",
       "675-679    15.854699\n",
       "680-684    15.126688\n",
       "685-689    14.654855\n",
       "690-694    14.732071\n",
       "695-699    14.146863\n",
       "700-704    13.356870\n",
       "705-709    12.659851\n",
       "710-714    12.433125\n",
       "715-719    11.181935\n",
       "720-724    11.035789\n",
       "725-729    10.652979\n",
       "730-734     9.956170\n",
       "735-739     9.623538\n",
       "740-744     9.592264\n",
       "745-749     9.901667\n",
       "750-754     8.467705\n",
       "755-759     8.996087\n",
       "760-764     8.627609\n",
       "765-769     7.783333\n",
       "770-774     6.752941\n",
       "775-779     8.744091\n",
       "780-784     7.589286\n",
       "785-789     8.497895\n",
       "790-794     7.560500\n",
       "795-799     8.391538\n",
       "800-804     7.638462\n",
       "805-809     7.426364\n",
       "810-814     8.293750\n",
       "815-819     6.925000\n",
       "820-824     7.900000\n",
       "830-834     7.620000\n",
       "Name: Interest.Rate.float, dtype: float64"
      ]
     },
     "execution_count": 54,
     "metadata": {},
     "output_type": "execute_result"
    }
   ],
   "source": [
    "#fico_grp\n",
    "loansData.groupby(\"FICO.Range\").mean()[\"Interest.Rate.float\"]"
   ]
  }
 ],
 "metadata": {
  "kernelspec": {
   "display_name": "Python 3",
   "language": "python",
   "name": "python3"
  },
  "language_info": {
   "codemirror_mode": {
    "name": "ipython",
    "version": 3
   },
   "file_extension": ".py",
   "mimetype": "text/x-python",
   "name": "python",
   "nbconvert_exporter": "python",
   "pygments_lexer": "ipython3",
   "version": "3.6.5"
  }
 },
 "nbformat": 4,
 "nbformat_minor": 1
}
