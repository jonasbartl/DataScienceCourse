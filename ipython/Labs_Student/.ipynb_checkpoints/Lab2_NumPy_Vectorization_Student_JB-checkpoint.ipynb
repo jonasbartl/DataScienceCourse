{
 "cells": [
  {
   "cell_type": "code",
   "execution_count": 2,
   "metadata": {},
   "outputs": [],
   "source": [
    "import warnings\n",
    "warnings.filterwarnings('ignore')\n",
    "import numpy as np\n",
    "import matplotlib.pyplot as plt\n",
    "%matplotlib inline"
   ]
  },
  {
   "cell_type": "markdown",
   "metadata": {},
   "source": [
    "First we'll generate a random matrix"
   ]
  },
  {
   "cell_type": "code",
   "execution_count": 21,
   "metadata": {},
   "outputs": [],
   "source": [
    "#Number of columns (features)\n",
    "K = 5\n",
    "\n",
    "#Number of records\n",
    "N = 1000\n",
    "\n",
    "#Generate an NxK matrix of uniform random variables\n",
    "X = np.random.random([N, K])#Student: generate a uniform random matrix here"
   ]
  },
  {
   "cell_type": "markdown",
   "metadata": {},
   "source": [
    "Let's peak at our data to confirm it looks as we expect it"
   ]
  },
  {
   "cell_type": "code",
   "execution_count": 43,
   "metadata": {},
   "outputs": [
    {
     "data": {
      "text/plain": [
       "array([[0.50431306, 0.62999231, 0.26314517, 0.29665474, 0.75921683],\n",
       "       [0.5026116 , 0.68986581, 0.1587289 , 0.97950806, 0.66559583],\n",
       "       [0.1366095 , 0.77629783, 0.03901222, 0.99045725, 0.37334509],\n",
       "       [0.05535276, 0.31205134, 0.41118121, 0.70158455, 0.69158681],\n",
       "       [0.61312269, 0.81338577, 0.58639383, 0.22105907, 0.50652037],\n",
       "       [0.11942115, 0.40988203, 0.07607718, 0.7301855 , 0.11011089],\n",
       "       [0.38966942, 0.19239305, 0.88470097, 0.47501414, 0.09521146],\n",
       "       [0.6245334 , 0.37314926, 0.25191249, 0.56228778, 0.12839504],\n",
       "       [0.482831  , 0.93464322, 0.89269404, 0.8099166 , 0.95378158],\n",
       "       [0.13346104, 0.58452259, 0.42282395, 0.02825074, 0.45767832],\n",
       "       [0.85746   , 0.09175705, 0.78467833, 0.55063588, 0.51751593],\n",
       "       [0.94869048, 0.6449368 , 0.2618124 , 0.53855352, 0.60591117],\n",
       "       [0.56218733, 0.11620239, 0.57789498, 0.917608  , 0.90471854],\n",
       "       [0.66506938, 0.05834728, 0.81016818, 0.44804094, 0.0384276 ],\n",
       "       [0.52817718, 0.38146108, 0.34598055, 0.39192239, 0.4009144 ],\n",
       "       [0.94396393, 0.69403061, 0.40073557, 0.32490244, 0.47160423],\n",
       "       [0.36601361, 0.37406349, 0.25252646, 0.15585429, 0.30651838],\n",
       "       [0.95803938, 0.50047071, 0.81074872, 0.19198286, 0.49030199],\n",
       "       [0.2647691 , 0.58447307, 0.43003302, 0.86133191, 0.22935855],\n",
       "       [0.66564702, 0.77404245, 0.34720954, 0.4664327 , 0.38502516],\n",
       "       [0.15053718, 0.48364017, 0.09929474, 0.1488062 , 0.13001413],\n",
       "       [0.20092755, 0.8688849 , 0.32903872, 0.75438862, 0.24068795],\n",
       "       [0.13356994, 0.87298637, 0.31406239, 0.14043437, 0.06273817],\n",
       "       [0.46225524, 0.33869801, 0.18183444, 0.01755594, 0.46448251],\n",
       "       [0.08488674, 0.11282084, 0.04712955, 0.10150307, 0.89602993],\n",
       "       [0.7442537 , 0.55080257, 0.1106283 , 0.78365005, 0.60425542],\n",
       "       [0.21488291, 0.13898563, 0.20883289, 0.64463877, 0.36576574],\n",
       "       [0.48104064, 0.26252046, 0.78171714, 0.56786258, 0.81591114],\n",
       "       [0.92004086, 0.15888306, 0.18520054, 0.96484249, 0.42384207],\n",
       "       [0.24262887, 0.72814246, 0.97365059, 0.90264485, 0.74273106],\n",
       "       [0.04334839, 0.50727845, 0.10906098, 0.5358887 , 0.30721386],\n",
       "       [0.43531002, 0.75250293, 0.11428306, 0.80856511, 0.03669762],\n",
       "       [0.73193924, 0.79799248, 0.61845275, 0.14134738, 0.24038456],\n",
       "       [0.21733096, 0.01045074, 0.88267091, 0.66234527, 0.86227727],\n",
       "       [0.87869067, 0.02493794, 0.15674299, 0.79533797, 0.96730565],\n",
       "       [0.72315518, 0.11755549, 0.23018783, 0.74811002, 0.74266125],\n",
       "       [0.08763865, 0.22153775, 0.52425435, 0.34667915, 0.59216536],\n",
       "       [0.42329945, 0.24816199, 0.36617943, 0.90285001, 0.47921033],\n",
       "       [0.38725653, 0.0214838 , 0.45444797, 0.30145863, 0.97785639],\n",
       "       [0.41202685, 0.57958616, 0.63368628, 0.97700227, 0.64105861],\n",
       "       [0.40378306, 0.77925466, 0.35589585, 0.75919461, 0.65554272],\n",
       "       [0.92777627, 0.81916892, 0.8680227 , 0.86646109, 0.36967644],\n",
       "       [0.48150536, 0.55011807, 0.8257954 , 0.01097268, 0.07314496],\n",
       "       [0.16456077, 0.80968192, 0.01871361, 0.57251937, 0.93569214],\n",
       "       [0.61016316, 0.67449831, 0.08984898, 0.87451913, 0.22425924],\n",
       "       [0.55714752, 0.00781824, 0.09605367, 0.20479605, 0.31950101],\n",
       "       [0.67903051, 0.27748734, 0.2846055 , 0.83499038, 0.39629509],\n",
       "       [0.20448585, 0.20634273, 0.92995603, 0.9615785 , 0.3638248 ],\n",
       "       [0.93371005, 0.47247527, 0.71541392, 0.72165777, 0.15541465],\n",
       "       [0.58556926, 0.72306662, 0.56985071, 0.19021232, 0.67803872],\n",
       "       [0.82102379, 0.42748612, 0.47251012, 0.84154116, 0.9070585 ],\n",
       "       [0.49152246, 0.37973259, 0.20104439, 0.92372528, 0.2531937 ],\n",
       "       [0.05622915, 0.22979208, 0.29920153, 0.14810008, 0.67123901],\n",
       "       [0.92683619, 0.8678836 , 0.83713491, 0.04815175, 0.47263576],\n",
       "       [0.26437388, 0.99672336, 0.33486022, 0.88617916, 0.5868332 ],\n",
       "       [0.37668453, 0.46719429, 0.99237749, 0.9745275 , 0.35336504],\n",
       "       [0.32828271, 0.29872264, 0.08507536, 0.80700728, 0.89899497],\n",
       "       [0.28852544, 0.45635029, 0.69497829, 0.77649067, 0.51239348],\n",
       "       [0.27817366, 0.79235337, 0.51864813, 0.58037277, 0.13467653],\n",
       "       [0.91873821, 0.94172825, 0.2216885 , 0.12771403, 0.3527859 ],\n",
       "       [0.44372508, 0.07733914, 0.09400883, 0.77640423, 0.8579904 ],\n",
       "       [0.04974261, 0.58965354, 0.96176455, 0.72951352, 0.87011958],\n",
       "       [0.27629447, 0.45874085, 0.11821319, 0.69198725, 0.13237784],\n",
       "       [0.9889787 , 0.67043603, 0.64699913, 0.1533391 , 0.59154693],\n",
       "       [0.68215817, 0.09427615, 0.25868513, 0.10178206, 0.97085459],\n",
       "       [0.11251673, 0.17923193, 0.33903788, 0.89007933, 0.52781928],\n",
       "       [0.01396778, 0.09124509, 0.82436802, 0.33228173, 0.2449746 ],\n",
       "       [0.93717833, 0.75165934, 0.9152759 , 0.20146233, 0.28626706],\n",
       "       [0.00663211, 0.92108173, 0.61779406, 0.16077695, 0.24946357],\n",
       "       [0.1338288 , 0.07519858, 0.80545988, 0.8678372 , 0.62941072],\n",
       "       [0.4807844 , 0.33384004, 0.19930686, 0.92403052, 0.73847707],\n",
       "       [0.98093424, 0.46823582, 0.41450653, 0.28921791, 0.89145475],\n",
       "       [0.24420402, 0.98219241, 0.21587295, 0.85814528, 0.24330377],\n",
       "       [0.38800108, 0.11814244, 0.20998392, 0.21161773, 0.3570789 ],\n",
       "       [0.9093099 , 0.76225456, 0.59171175, 0.51106847, 0.24045906],\n",
       "       [0.25004856, 0.50816654, 0.43925942, 0.75456812, 0.23739021],\n",
       "       [0.57337801, 0.50968178, 0.17412445, 0.46176018, 0.76025362],\n",
       "       [0.56809674, 0.41718347, 0.36869214, 0.58909924, 0.07416386],\n",
       "       [0.56264007, 0.102594  , 0.2527665 , 0.90192598, 0.1232167 ],\n",
       "       [0.26506004, 0.30722   , 0.66474949, 0.98145967, 0.90273838],\n",
       "       [0.53127328, 0.37090132, 0.74422232, 0.41313064, 0.21426853],\n",
       "       [0.50993316, 0.56999663, 0.70293265, 0.13708632, 0.20835952],\n",
       "       [0.48137939, 0.29393635, 0.17768196, 0.20072149, 0.47414756],\n",
       "       [0.67998514, 0.00801164, 0.88068686, 0.39784296, 0.11317617],\n",
       "       [0.07427239, 0.23894829, 0.63557068, 0.67927345, 0.84188667],\n",
       "       [0.78541991, 0.47      , 0.49859168, 0.59474158, 0.9616208 ],\n",
       "       [0.33922346, 0.27651637, 0.43021875, 0.19861589, 0.40221546],\n",
       "       [0.13174689, 0.92341831, 0.02916007, 0.40088594, 0.98671313],\n",
       "       [0.82126548, 0.91054642, 0.88604225, 0.8310896 , 0.69219478],\n",
       "       [0.29147343, 0.94249447, 0.73757524, 0.8901918 , 0.30767358],\n",
       "       [0.25067042, 0.69024146, 0.77047682, 0.61659635, 0.40985033],\n",
       "       [0.22645368, 0.28784339, 0.42450326, 0.76506916, 0.48942176],\n",
       "       [0.47085178, 0.66040109, 0.85571506, 0.91490241, 0.84472772],\n",
       "       [0.53803238, 0.44716132, 0.94845776, 0.37207225, 0.11635145],\n",
       "       [0.08027249, 0.66155554, 0.35610259, 0.26108702, 0.90611317],\n",
       "       [0.83734144, 0.03620789, 0.60406315, 0.50335617, 0.8395173 ],\n",
       "       [0.27577753, 0.45109741, 0.41652345, 0.25076478, 0.67838866],\n",
       "       [0.625676  , 0.57633033, 0.13346397, 0.59082044, 0.84099053],\n",
       "       [0.95906632, 0.83494997, 0.31778973, 0.34325987, 0.96889161],\n",
       "       [0.62412405, 0.55332476, 0.56639076, 0.39767721, 0.4132952 ]])"
      ]
     },
     "execution_count": 43,
     "metadata": {},
     "output_type": "execute_result"
    }
   ],
   "source": [
    "#Student - Put in a command to view the first 100 rows\n",
    "X[0:100,]"
   ]
  },
  {
   "cell_type": "code",
   "execution_count": 46,
   "metadata": {},
   "outputs": [
    {
     "data": {
      "text/plain": [
       "(1000, 5)"
      ]
     },
     "execution_count": 46,
     "metadata": {},
     "output_type": "execute_result"
    }
   ],
   "source": [
    "#Student - put in a command to see the dimensions of X\n",
    "X.shape"
   ]
  },
  {
   "cell_type": "markdown",
   "metadata": {},
   "source": [
    "This exercise is about designing a scoring function for a logistic regression. As we are not concerned with fitting a model to data, we can just make up a logistic regression. <br> <br>\n",
    "\n",
    "For quick intro, the Logistic Regression takes the form of $\\hat{Y} = f(x * \\beta^T)$, where $x$ is the $1xK$ vector of features and $\\beta$ is the $1xK$ vector of weights. The function $f$, called a 'link' function, is the inverse logit: <br><br>\n",
    "\n",
    "<center>$f(a)=\\frac{1}{1+e^{-a}}$</center> <br><br>\n",
    "\n",
    "In this notebook we'll write a function that, given inputs of $X$ and $\\beta$, returns a value for $\\hat{Y}$.\n",
    "<br><br>\n",
    "First let's generate a random set of weights to represent $\\beta$.\n"
   ]
  },
  {
   "cell_type": "code",
   "execution_count": 48,
   "metadata": {},
   "outputs": [
    {
     "data": {
      "text/plain": [
       "array([-0.62800596,  0.39618287, -0.07244295, -0.26819958,  0.78877564])"
      ]
     },
     "execution_count": 48,
     "metadata": {},
     "output_type": "execute_result"
    }
   ],
   "source": [
    "#Student - generate a K dimensional vector of uniform random variables in the interval [-1, 1]\n",
    "beta = 2 * np.random.random(K) - 1#input command here\n",
    "beta"
   ]
  },
  {
   "cell_type": "markdown",
   "metadata": {},
   "source": [
    "Notice how we applied a neat NumPy trick here. The numpy.random.random() function returns an array, yet we applied what appears to be a scalar operation on the vector. This is an example of what NumPy calls vectorization (a major point of this tutorial), which offers us both a very fast way to do run vector computations as well as a clean and concise method of coding. \n",
    "\n",
    "<br><br>\n",
    "\n",
    "<b>Question: we designed the above $beta$ vector such that $E[\\beta_i]=0$. How can we confirm that we did this correctly?</b>"
   ]
  },
  {
   "cell_type": "code",
   "execution_count": 51,
   "metadata": {},
   "outputs": [
    {
     "data": {
      "text/plain": [
       "0.04326200321311413"
      ]
     },
     "execution_count": 51,
     "metadata": {},
     "output_type": "execute_result"
    }
   ],
   "source": [
    "#start by taking the mean of the beta we already calculated\n",
    "beta.mean()\n",
    "#Student - fill in command here\n",
    "\n"
   ]
  },
  {
   "cell_type": "code",
   "execution_count": 84,
   "metadata": {},
   "outputs": [],
   "source": [
    "#It is likely the above is not equal to zero. Let's simulate this 100k times and see what the distribution of means is\n",
    "#Student input code here\n",
    "\n",
    "# Version 1\n",
    "means_v1 = []\n",
    "for i in range(1,100000):\n",
    "    x = 2 * np.random.random(K) - 1\n",
    "    y = x.mean()\n",
    "    means_v1.append(y)\n",
    "\n",
    "# Verions 2\n",
    "means_v2 = []\n",
    "for i in range(1,100000):\n",
    "    means_v2.append((2 * np.random.random(K) - 1).mean())"
   ]
  },
  {
   "cell_type": "markdown",
   "metadata": {},
   "source": [
    "Now let's use matplotlibs hist function to plot the histogram of means here. "
   ]
  },
  {
   "cell_type": "code",
   "execution_count": 85,
   "metadata": {},
   "outputs": [
    {
     "data": {
      "image/png": "[encoded data removed]",
      "text/plain": [
       "<Figure size 432x288 with 1 Axes>"
      ]
     },
     "metadata": {},
     "output_type": "display_data"
    }
   ],
   "source": [
    "plt.hist(means_v1)\n",
    "plt.show()"
   ]
  },
  {
   "cell_type": "code",
   "execution_count": 86,
   "metadata": {},
   "outputs": [
    {
     "data": {
      "image/png": "[encoded data removed]",
      "text/plain": [
       "<Figure size 432x288 with 1 Axes>"
      ]
     },
     "metadata": {},
     "output_type": "display_data"
    }
   ],
   "source": [
    "plt.hist(means_v2)\n",
    "plt.show()"
   ]
  },
  {
   "cell_type": "markdown",
   "metadata": {},
   "source": [
    "We should expect the distribution to be centered around zero. Is it? As fun technical side, let's dive a little deeper into what this distribution should look like. The histogram shows a distribution of the average of a sample of 5 uniformly distributed random variables taken over N different samples. Can we compare this to a theoretical distribution?<br>\n",
    "\n",
    "Yes we can! We sampled each $\\beta_i$ from a uniform distribution over the interval $[-1, 1]$. The variance of a sample of uniformly distributed variables is given by $(1/12) * (b - a)^2$, where $b$ and $a$ are the min/max of the support interval. The standard error (or the standard deviation of the mean) of a sample of size K with with $Var(X) = \\sigma^2$ is $\\sigma / \\sqrt(K)$. <br>\n",
    "\n",
    "Given the above knowledge, we should expect our distribution of averages to be normally distributed with mean = 0 and var = $(12 * 5)^{-1} * (1 - (-1))^2 = 0.66667$. Let's compare this normal distribution to our sample above."
   ]
  },
  {
   "cell_type": "code",
   "execution_count": 106,
   "metadata": {},
   "outputs": [
    {
     "name": "stdout",
     "output_type": "stream",
     "text": [
      "0.06666666666666667\n"
     ]
    }
   ],
   "source": [
    "# In the text above, the equation of var in the last row is false, var actually equals 0.066667:\n",
    "var_1 = ((12 * 5) ** -1) * (1 - (-1)) ** 2\n",
    "print(var_1)"
   ]
  },
  {
   "cell_type": "code",
   "execution_count": 107,
   "metadata": {},
   "outputs": [
    {
     "name": "stdout",
     "output_type": "stream",
     "text": [
      "0.3333333333333333\n"
     ]
    }
   ],
   "source": [
    "# Why is for the equation of var (12 * 5) ** -1 instead of (1 / 12) used, as indicated by the general formula?\n",
    "# Compute variance with general formula:\n",
    "var_2 = (1 / 12) * (1 - (-1)) ** 2\n",
    "print(var_2)"
   ]
  },
  {
   "cell_type": "code",
   "execution_count": 92,
   "metadata": {},
   "outputs": [
    {
     "data": {
      "image/png": "[encoded data removed]",
      "text/plain": [
       "<Figure size 432x288 with 1 Axes>"
      ]
     },
     "metadata": {},
     "output_type": "display_data"
    }
   ],
   "source": [
    "#Compute a vector from the normal distribution specified above\n",
    "from scipy.stats import norm\n",
    "mu = 0\n",
    "sig = np.sqrt(4 / 60.0) \n",
    "xs = np.linspace(-1, 1, 1000)\n",
    "ys = norm.pdf(xs, mu, sig) \n",
    "\n",
    "plt.hist(means, density = True)\n",
    "plt.plot(xs, ys)\n",
    "plt.show()\n"
   ]
  },
  {
   "cell_type": "code",
   "execution_count": 105,
   "metadata": {},
   "outputs": [
    {
     "data": {
      "image/png": "[encoded data removed]",
      "text/plain": [
       "<Figure size 432x288 with 1 Axes>"
      ]
     },
     "metadata": {},
     "output_type": "display_data"
    }
   ],
   "source": [
    "#Compute a vector from the normal distribution specified above\n",
    "from scipy.stats import norm\n",
    "mu = 0\n",
    "sig = np.sqrt(var_1) \n",
    "xs = np.linspace(-1, 1, 1000)\n",
    "ys = norm.pdf(xs, mu, sig) \n",
    "\n",
    "plt.hist(means, density = True)\n",
    "plt.plot(xs, ys)\n",
    "plt.show()"
   ]
  },
  {
   "cell_type": "markdown",
   "metadata": {},
   "source": [
    "Now let's write our scoring function. Let's try to use as much of Numpy's inner optimization as possible (hint, this can be done in two lines and without writing any loops). The key is that numpy functions that would normally take in a scalar can also take in an array, and the function applies the operations element wise to the array and returns an array. i.e.:"
   ]
  },
  {
   "cell_type": "code",
   "execution_count": 108,
   "metadata": {},
   "outputs": [
    {
     "data": {
      "text/plain": [
       "array([1, 1])"
      ]
     },
     "execution_count": 108,
     "metadata": {},
     "output_type": "execute_result"
    }
   ],
   "source": [
    "ex_array = np.array([-1, 1])\n",
    "np.abs(ex_array)"
   ]
  },
  {
   "cell_type": "markdown",
   "metadata": {},
   "source": [
    "Let's use this feature to write a fast and clean scoring function"
   ]
  },
  {
   "cell_type": "code",
   "execution_count": 157,
   "metadata": {},
   "outputs": [],
   "source": [
    "def score_logistic_regression(X, beta):\n",
    "    '''\n",
    "    This function takes in an NxK matrix X and 1xK vector beta.\n",
    "    The function should apply the logistic scoring function to each record of X.\n",
    "    The output should be an Nx1 vector of scores\n",
    "    '''\n",
    "    \n",
    "    #First let's calculate X*beta - make sure to use numpy's 'dot' method\n",
    "    a = X.dot(beta)\n",
    "    \n",
    "    #Now let's input this into the link function\n",
    "    prob_score = (1 / (1 + np.exp(-a)))\n",
    "    return prob_score"
   ]
  },
  {
   "cell_type": "markdown",
   "metadata": {},
   "source": [
    "So how much faster is it by using Numpy? We can test this be writing the same function that uses no Numpy and executes via loops."
   ]
  },
  {
   "cell_type": "code",
   "execution_count": 183,
   "metadata": {},
   "outputs": [
    {
     "name": "stdout",
     "output_type": "stream",
     "text": [
      "[[1 2 3]\n",
      " [4 5 6]]\n",
      "[1 2 3]\n"
     ]
    }
   ],
   "source": [
    "# Clarify how functions work\n",
    "# Create some sample data\n",
    "t1 = np.array([1, 2, 3, 4, 5, 6]).reshape(2, 3)\n",
    "t2 = np.array([1, 2, 3])\n",
    "print(t1)\n",
    "print(t2)"
   ]
  },
  {
   "cell_type": "code",
   "execution_count": 184,
   "metadata": {},
   "outputs": [
    {
     "name": "stdout",
     "output_type": "stream",
     "text": [
      "[14 32]\n",
      "[[ 1  4  9]\n",
      " [ 4 10 18]]\n",
      "[14 32]\n"
     ]
    }
   ],
   "source": [
    "# Test functions\n",
    "print(t1 @ t2)\n",
    "print(t1 * t2)\n",
    "print(t1.dot(t2))"
   ]
  },
  {
   "cell_type": "code",
   "execution_count": 205,
   "metadata": {},
   "outputs": [
    {
     "name": "stdout",
     "output_type": "stream",
     "text": [
      "[1 2 3]\n",
      "-\n",
      "0\n",
      "1\n",
      "-\n",
      "1\n",
      "--\n",
      "[1 2 3]\n",
      "-\n",
      "1\n",
      "2\n",
      "-\n",
      "5\n",
      "--\n",
      "[1 2 3]\n",
      "-\n",
      "2\n",
      "3\n",
      "-\n",
      "14\n",
      "--\n",
      "[4 5 6]\n",
      "-\n",
      "0\n",
      "4\n",
      "-\n",
      "4\n",
      "--\n",
      "[4 5 6]\n",
      "-\n",
      "1\n",
      "5\n",
      "-\n",
      "14\n",
      "--\n",
      "[4 5 6]\n",
      "-\n",
      "2\n",
      "6\n",
      "-\n",
      "32\n",
      "--\n",
      "[14, 32]\n"
     ]
    }
   ],
   "source": [
    "# Testing functioning of enumerate with test matrixes\n",
    "xbeta = []\n",
    "for row in t1:\n",
    "    xb = 0\n",
    "    for i, el in enumerate(row):\n",
    "        xb += el * t2[i]\n",
    "        print(row)\n",
    "        print(\"-\")\n",
    "        print(i)\n",
    "        print(el)\n",
    "        print(\"-\")\n",
    "        print(xb)\n",
    "        print(\"--\")\n",
    "    xbeta.append(xb)\n",
    "print(xbeta)"
   ]
  },
  {
   "cell_type": "code",
   "execution_count": 208,
   "metadata": {},
   "outputs": [
    {
     "name": "stdout",
     "output_type": "stream",
     "text": [
      "(0, array(['eat', 'sleep'], dtype='<U6'))\n",
      "(1, array(['repeat', 'bla1'], dtype='<U6'))\n",
      "(2, array(['bla2', 'bla3'], dtype='<U6'))\n"
     ]
    }
   ],
   "source": [
    "# Python program to illustrate enumerate function in loops in general\n",
    "l1 = np.array([\"eat\", \"sleep\", \"repeat\", \n",
    "               \"bla1\", \"bla2\", \"bla3\"]).reshape(3, 2)\n",
    "  \n",
    "# printing the tuples in object directly \n",
    "for ele in enumerate(l1): \n",
    "    print(ele)"
   ]
  },
  {
   "cell_type": "code",
   "execution_count": 209,
   "metadata": {},
   "outputs": [],
   "source": [
    "def score_logistic_regression_NoNumpy(X, beta):\n",
    "    '''\n",
    "    This function takes in an NxK matrix X and 1xK vector beta.\n",
    "    The function should apply the logistic scoring function to each record of X.\n",
    "    The output should be an Nx1 vector of scores\n",
    "    '''\n",
    "    #Let's calculate xbeta using loops\n",
    "    xbeta = []\n",
    "    for row in X:\n",
    "        \n",
    "        xb = 0\n",
    "        for i, el in enumerate(row):\n",
    "            xb += el * beta[i]\n",
    "        \n",
    "        xbeta.append(xb)\n",
    "        \n",
    "    #Now let's apply the link function to each xbeta\n",
    "    prob_score = []\n",
    "    for xb in xbeta:\n",
    "        #student - compute p in the loop  \n",
    "        prob_score.append(1 / (1 + np.exp(-xb)))\n",
    "        \n",
    "    return prob_score"
   ]
  },
  {
   "cell_type": "code",
   "execution_count": 212,
   "metadata": {},
   "outputs": [
    {
     "ename": "AttributeError",
     "evalue": "'list' object has no attribute 'shape'",
     "output_type": "error",
     "traceback": [
      "\u001b[1;31m---------------------------------------------------------------------------\u001b[0m",
      "\u001b[1;31mAttributeError\u001b[0m                            Traceback (most recent call last)",
      "\u001b[1;32m<ipython-input-212-f51d6328c6a1>\u001b[0m in \u001b[0;36m<module>\u001b[1;34m()\u001b[0m\n\u001b[1;32m----> 1\u001b[1;33m \u001b[0mscore_logistic_regression_NoNumpy\u001b[0m\u001b[1;33m(\u001b[0m\u001b[0mX\u001b[0m\u001b[1;33m,\u001b[0m \u001b[0mbeta\u001b[0m\u001b[1;33m)\u001b[0m\u001b[1;33m.\u001b[0m\u001b[0mshape\u001b[0m\u001b[1;33m\u001b[0m\u001b[0m\n\u001b[0m",
      "\u001b[1;31mAttributeError\u001b[0m: 'list' object has no attribute 'shape'"
     ]
    }
   ],
   "source": [
    "score_logistic_regression_NoNumpy(X, beta)"
   ]
  },
  {
   "cell_type": "code",
   "execution_count": 213,
   "metadata": {},
   "outputs": [
    {
     "data": {
      "text/plain": [
       "(1000,)"
      ]
     },
     "execution_count": 213,
     "metadata": {},
     "output_type": "execute_result"
    }
   ],
   "source": [
    "score_logistic_regression(X, beta).shape"
   ]
  },
  {
   "cell_type": "markdown",
   "metadata": {},
   "source": [
    "Before doing any analysis, let's test the output of each to make sure they equal"
   ]
  },
  {
   "cell_type": "code",
   "execution_count": 218,
   "metadata": {},
   "outputs": [
    {
     "name": "stdout",
     "output_type": "stream",
     "text": [
      "Mean Absolute Deviation = 0.0\n"
     ]
    }
   ],
   "source": [
    "#Student - write a unit test that calls each function with the same inputs and checks to see they return the same values.\n",
    "diff = np.abs(score_logistic_regression(X, beta) - score_logistic_regression_NoNumpy(X, beta))\n",
    "print('Mean Absolute Deviation = {}'.format(np.round(diff.sum(), 8)))"
   ]
  },
  {
   "cell_type": "markdown",
   "metadata": {},
   "source": [
    "If they equal then we can proceed with timing analysis"
   ]
  },
  {
   "cell_type": "code",
   "execution_count": 214,
   "metadata": {},
   "outputs": [
    {
     "name": "stdout",
     "output_type": "stream",
     "text": [
      "5.24 ms ± 141 µs per loop (mean ± std. dev. of 7 runs, 100 loops each)\n"
     ]
    }
   ],
   "source": [
    "%timeit score_logistic_regression_NoNumpy(X, beta)"
   ]
  },
  {
   "cell_type": "code",
   "execution_count": 215,
   "metadata": {},
   "outputs": [
    {
     "name": "stdout",
     "output_type": "stream",
     "text": [
      "20.1 µs ± 3.26 µs per loop (mean ± std. dev. of 7 runs, 100000 loops each)\n"
     ]
    }
   ],
   "source": [
    "%timeit score_logistic_regression(X, beta)"
   ]
  },
  {
   "cell_type": "code",
   "execution_count": null,
   "metadata": {
    "collapsed": true
   },
   "outputs": [],
   "source": []
  }
 ],
 "metadata": {
  "anaconda-cloud": {},
  "kernelspec": {
   "display_name": "Python 3",
   "language": "python",
   "name": "python3"
  },
  "language_info": {
   "codemirror_mode": {
    "name": "ipython",
    "version": 3
   },
   "file_extension": ".py",
   "mimetype": "text/x-python",
   "name": "python",
   "nbconvert_exporter": "python",
   "pygments_lexer": "ipython3",
   "version": "3.6.5"
  }
 },
 "nbformat": 4,
 "nbformat_minor": 1
}
